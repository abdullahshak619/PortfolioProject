{
 "cells": [
  {
   "cell_type": "code",
   "execution_count": 145,
   "id": "246bcde6",
   "metadata": {},
   "outputs": [],
   "source": [
    "import numpy as np\n",
    "import pandas as pd\n",
    "import matplotlib.pyplot as plt\n",
    "import seaborn as sns\n",
    "import os\n"
   ]
  },
  {
   "cell_type": "markdown",
   "id": "81c35177",
   "metadata": {},
   "source": [
    "## Merge all files"
   ]
  },
  {
   "cell_type": "code",
   "execution_count": 16,
   "id": "af43a0f8",
   "metadata": {},
   "outputs": [],
   "source": [
    "files=[file for file in os.listdir('./Desktop/SalesAnalysis/Sales_Data')]\n",
    "all_months_data= pd.DataFrame()\n",
    "for file in files:\n",
    "    df=pd.read_csv(\"./Desktop/SalesAnalysis/Sales_Data/\" +file)\n",
    "    all_months_data=pd.concat([all_months_data, df])\n",
    "    all_months_data.to_csv(\"Sales.csv\", index=False)"
   ]
  },
  {
   "cell_type": "code",
   "execution_count": 17,
   "id": "81f8ffbf",
   "metadata": {},
   "outputs": [
    {
     "data": {
      "text/html": [
       "<div>\n",
       "<style scoped>\n",
       "    .dataframe tbody tr th:only-of-type {\n",
       "        vertical-align: middle;\n",
       "    }\n",
       "\n",
       "    .dataframe tbody tr th {\n",
       "        vertical-align: top;\n",
       "    }\n",
       "\n",
       "    .dataframe thead th {\n",
       "        text-align: right;\n",
       "    }\n",
       "</style>\n",
       "<table border=\"1\" class=\"dataframe\">\n",
       "  <thead>\n",
       "    <tr style=\"text-align: right;\">\n",
       "      <th></th>\n",
       "      <th>Order ID</th>\n",
       "      <th>Product</th>\n",
       "      <th>Quantity Ordered</th>\n",
       "      <th>Price Each</th>\n",
       "      <th>Order Date</th>\n",
       "      <th>Purchase Address</th>\n",
       "    </tr>\n",
       "  </thead>\n",
       "  <tbody>\n",
       "    <tr>\n",
       "      <th>0</th>\n",
       "      <td>176558</td>\n",
       "      <td>USB-C Charging Cable</td>\n",
       "      <td>2</td>\n",
       "      <td>11.95</td>\n",
       "      <td>04/19/19 08:46</td>\n",
       "      <td>917 1st St, Dallas, TX 75001</td>\n",
       "    </tr>\n",
       "    <tr>\n",
       "      <th>1</th>\n",
       "      <td>176559</td>\n",
       "      <td>Bose SoundSport Headphones</td>\n",
       "      <td>1</td>\n",
       "      <td>99.99</td>\n",
       "      <td>04-07-2019 22:30</td>\n",
       "      <td>682 Chestnut St, Boston, MA 02215</td>\n",
       "    </tr>\n",
       "    <tr>\n",
       "      <th>2</th>\n",
       "      <td>176560</td>\n",
       "      <td>Google Phone</td>\n",
       "      <td>1</td>\n",
       "      <td>600</td>\n",
       "      <td>04-12-2019 14:38</td>\n",
       "      <td>669 Spruce St, Los Angeles, CA 90001</td>\n",
       "    </tr>\n",
       "    <tr>\n",
       "      <th>3</th>\n",
       "      <td>176560</td>\n",
       "      <td>Wired Headphones</td>\n",
       "      <td>1</td>\n",
       "      <td>11.99</td>\n",
       "      <td>04-12-2019 14:38</td>\n",
       "      <td>669 Spruce St, Los Angeles, CA 90001</td>\n",
       "    </tr>\n",
       "    <tr>\n",
       "      <th>4</th>\n",
       "      <td>176561</td>\n",
       "      <td>Wired Headphones</td>\n",
       "      <td>1</td>\n",
       "      <td>11.99</td>\n",
       "      <td>04/30/19 09:27</td>\n",
       "      <td>333 8th St, Los Angeles, CA 90001</td>\n",
       "    </tr>\n",
       "  </tbody>\n",
       "</table>\n",
       "</div>"
      ],
      "text/plain": [
       "  Order ID                     Product Quantity Ordered Price Each  \\\n",
       "0   176558        USB-C Charging Cable                2      11.95   \n",
       "1   176559  Bose SoundSport Headphones                1      99.99   \n",
       "2   176560                Google Phone                1        600   \n",
       "3   176560            Wired Headphones                1      11.99   \n",
       "4   176561            Wired Headphones                1      11.99   \n",
       "\n",
       "         Order Date                      Purchase Address  \n",
       "0    04/19/19 08:46          917 1st St, Dallas, TX 75001  \n",
       "1  04-07-2019 22:30     682 Chestnut St, Boston, MA 02215  \n",
       "2  04-12-2019 14:38  669 Spruce St, Los Angeles, CA 90001  \n",
       "3  04-12-2019 14:38  669 Spruce St, Los Angeles, CA 90001  \n",
       "4    04/30/19 09:27     333 8th St, Los Angeles, CA 90001  "
      ]
     },
     "execution_count": 17,
     "metadata": {},
     "output_type": "execute_result"
    }
   ],
   "source": [
    "Sales=pd.read_csv(\"Sales.csv\")\n",
    "Sales.head()"
   ]
  },
  {
   "cell_type": "code",
   "execution_count": 18,
   "id": "459e8612",
   "metadata": {},
   "outputs": [
    {
     "name": "stdout",
     "output_type": "stream",
     "text": [
      "<class 'pandas.core.frame.DataFrame'>\n",
      "RangeIndex: 186849 entries, 0 to 186848\n",
      "Data columns (total 6 columns):\n",
      " #   Column            Non-Null Count   Dtype \n",
      "---  ------            --------------   ----- \n",
      " 0   Order ID          186305 non-null  object\n",
      " 1   Product           186305 non-null  object\n",
      " 2   Quantity Ordered  186305 non-null  object\n",
      " 3   Price Each        186305 non-null  object\n",
      " 4   Order Date        186305 non-null  object\n",
      " 5   Purchase Address  186305 non-null  object\n",
      "dtypes: object(6)\n",
      "memory usage: 8.6+ MB\n"
     ]
    }
   ],
   "source": [
    "Sales.info()"
   ]
  },
  {
   "cell_type": "markdown",
   "id": "77f6dca5",
   "metadata": {},
   "source": [
    "# Cleaning the data"
   ]
  },
  {
   "cell_type": "markdown",
   "id": "bf6140f5",
   "metadata": {},
   "source": [
    "### Drop NaN"
   ]
  },
  {
   "cell_type": "code",
   "execution_count": 19,
   "id": "138cf3ab",
   "metadata": {},
   "outputs": [
    {
     "data": {
      "text/html": [
       "<div>\n",
       "<style scoped>\n",
       "    .dataframe tbody tr th:only-of-type {\n",
       "        vertical-align: middle;\n",
       "    }\n",
       "\n",
       "    .dataframe tbody tr th {\n",
       "        vertical-align: top;\n",
       "    }\n",
       "\n",
       "    .dataframe thead th {\n",
       "        text-align: right;\n",
       "    }\n",
       "</style>\n",
       "<table border=\"1\" class=\"dataframe\">\n",
       "  <thead>\n",
       "    <tr style=\"text-align: right;\">\n",
       "      <th></th>\n",
       "      <th>Order ID</th>\n",
       "      <th>Product</th>\n",
       "      <th>Quantity Ordered</th>\n",
       "      <th>Price Each</th>\n",
       "      <th>Order Date</th>\n",
       "      <th>Purchase Address</th>\n",
       "    </tr>\n",
       "  </thead>\n",
       "  <tbody>\n",
       "    <tr>\n",
       "      <th>0</th>\n",
       "      <td>176558</td>\n",
       "      <td>USB-C Charging Cable</td>\n",
       "      <td>2</td>\n",
       "      <td>11.95</td>\n",
       "      <td>04/19/19 08:46</td>\n",
       "      <td>917 1st St, Dallas, TX 75001</td>\n",
       "    </tr>\n",
       "    <tr>\n",
       "      <th>1</th>\n",
       "      <td>176559</td>\n",
       "      <td>Bose SoundSport Headphones</td>\n",
       "      <td>1</td>\n",
       "      <td>99.99</td>\n",
       "      <td>04-07-2019 22:30</td>\n",
       "      <td>682 Chestnut St, Boston, MA 02215</td>\n",
       "    </tr>\n",
       "    <tr>\n",
       "      <th>2</th>\n",
       "      <td>176560</td>\n",
       "      <td>Google Phone</td>\n",
       "      <td>1</td>\n",
       "      <td>600</td>\n",
       "      <td>04-12-2019 14:38</td>\n",
       "      <td>669 Spruce St, Los Angeles, CA 90001</td>\n",
       "    </tr>\n",
       "    <tr>\n",
       "      <th>3</th>\n",
       "      <td>176560</td>\n",
       "      <td>Wired Headphones</td>\n",
       "      <td>1</td>\n",
       "      <td>11.99</td>\n",
       "      <td>04-12-2019 14:38</td>\n",
       "      <td>669 Spruce St, Los Angeles, CA 90001</td>\n",
       "    </tr>\n",
       "    <tr>\n",
       "      <th>4</th>\n",
       "      <td>176561</td>\n",
       "      <td>Wired Headphones</td>\n",
       "      <td>1</td>\n",
       "      <td>11.99</td>\n",
       "      <td>04/30/19 09:27</td>\n",
       "      <td>333 8th St, Los Angeles, CA 90001</td>\n",
       "    </tr>\n",
       "    <tr>\n",
       "      <th>...</th>\n",
       "      <td>...</td>\n",
       "      <td>...</td>\n",
       "      <td>...</td>\n",
       "      <td>...</td>\n",
       "      <td>...</td>\n",
       "      <td>...</td>\n",
       "    </tr>\n",
       "    <tr>\n",
       "      <th>186844</th>\n",
       "      <td>259353</td>\n",
       "      <td>AAA Batteries (4-pack)</td>\n",
       "      <td>3</td>\n",
       "      <td>2.99</td>\n",
       "      <td>09/17/19 20:56</td>\n",
       "      <td>840 Highland St, Los Angeles, CA 90001</td>\n",
       "    </tr>\n",
       "    <tr>\n",
       "      <th>186845</th>\n",
       "      <td>259354</td>\n",
       "      <td>iPhone</td>\n",
       "      <td>1</td>\n",
       "      <td>700</td>\n",
       "      <td>09/01/19 16:00</td>\n",
       "      <td>216 Dogwood St, San Francisco, CA 94016</td>\n",
       "    </tr>\n",
       "    <tr>\n",
       "      <th>186846</th>\n",
       "      <td>259355</td>\n",
       "      <td>iPhone</td>\n",
       "      <td>1</td>\n",
       "      <td>700</td>\n",
       "      <td>09/23/19 07:39</td>\n",
       "      <td>220 12th St, San Francisco, CA 94016</td>\n",
       "    </tr>\n",
       "    <tr>\n",
       "      <th>186847</th>\n",
       "      <td>259356</td>\n",
       "      <td>34in Ultrawide Monitor</td>\n",
       "      <td>1</td>\n",
       "      <td>379.99</td>\n",
       "      <td>09/19/19 17:30</td>\n",
       "      <td>511 Forest St, San Francisco, CA 94016</td>\n",
       "    </tr>\n",
       "    <tr>\n",
       "      <th>186848</th>\n",
       "      <td>259357</td>\n",
       "      <td>USB-C Charging Cable</td>\n",
       "      <td>1</td>\n",
       "      <td>11.95</td>\n",
       "      <td>09/30/19 00:18</td>\n",
       "      <td>250 Meadow St, San Francisco, CA 94016</td>\n",
       "    </tr>\n",
       "  </tbody>\n",
       "</table>\n",
       "<p>186305 rows × 6 columns</p>\n",
       "</div>"
      ],
      "text/plain": [
       "       Order ID                     Product Quantity Ordered Price Each  \\\n",
       "0        176558        USB-C Charging Cable                2      11.95   \n",
       "1        176559  Bose SoundSport Headphones                1      99.99   \n",
       "2        176560                Google Phone                1        600   \n",
       "3        176560            Wired Headphones                1      11.99   \n",
       "4        176561            Wired Headphones                1      11.99   \n",
       "...         ...                         ...              ...        ...   \n",
       "186844   259353      AAA Batteries (4-pack)                3       2.99   \n",
       "186845   259354                      iPhone                1        700   \n",
       "186846   259355                      iPhone                1        700   \n",
       "186847   259356      34in Ultrawide Monitor                1     379.99   \n",
       "186848   259357        USB-C Charging Cable                1      11.95   \n",
       "\n",
       "              Order Date                         Purchase Address  \n",
       "0         04/19/19 08:46             917 1st St, Dallas, TX 75001  \n",
       "1       04-07-2019 22:30        682 Chestnut St, Boston, MA 02215  \n",
       "2       04-12-2019 14:38     669 Spruce St, Los Angeles, CA 90001  \n",
       "3       04-12-2019 14:38     669 Spruce St, Los Angeles, CA 90001  \n",
       "4         04/30/19 09:27        333 8th St, Los Angeles, CA 90001  \n",
       "...                  ...                                      ...  \n",
       "186844    09/17/19 20:56   840 Highland St, Los Angeles, CA 90001  \n",
       "186845    09/01/19 16:00  216 Dogwood St, San Francisco, CA 94016  \n",
       "186846    09/23/19 07:39     220 12th St, San Francisco, CA 94016  \n",
       "186847    09/19/19 17:30   511 Forest St, San Francisco, CA 94016  \n",
       "186848    09/30/19 00:18   250 Meadow St, San Francisco, CA 94016  \n",
       "\n",
       "[186305 rows x 6 columns]"
      ]
     },
     "execution_count": 19,
     "metadata": {},
     "output_type": "execute_result"
    }
   ],
   "source": [
    "Sales=Sales.dropna(how=\"all\")\n",
    "Sales"
   ]
  },
  {
   "cell_type": "code",
   "execution_count": 20,
   "id": "e605d30d",
   "metadata": {
    "collapsed": true
   },
   "outputs": [
    {
     "data": {
      "text/html": [
       "<div>\n",
       "<style scoped>\n",
       "    .dataframe tbody tr th:only-of-type {\n",
       "        vertical-align: middle;\n",
       "    }\n",
       "\n",
       "    .dataframe tbody tr th {\n",
       "        vertical-align: top;\n",
       "    }\n",
       "\n",
       "    .dataframe thead th {\n",
       "        text-align: right;\n",
       "    }\n",
       "</style>\n",
       "<table border=\"1\" class=\"dataframe\">\n",
       "  <thead>\n",
       "    <tr style=\"text-align: right;\">\n",
       "      <th></th>\n",
       "      <th>Order ID</th>\n",
       "      <th>Product</th>\n",
       "      <th>Quantity Ordered</th>\n",
       "      <th>Price Each</th>\n",
       "      <th>Order Date</th>\n",
       "      <th>Purchase Address</th>\n",
       "    </tr>\n",
       "  </thead>\n",
       "  <tbody>\n",
       "    <tr>\n",
       "      <th>0</th>\n",
       "      <td>176558</td>\n",
       "      <td>USB-C Charging Cable</td>\n",
       "      <td>2</td>\n",
       "      <td>11.95</td>\n",
       "      <td>04/19/19 08:46</td>\n",
       "      <td>917 1st St, Dallas, TX 75001</td>\n",
       "    </tr>\n",
       "    <tr>\n",
       "      <th>1</th>\n",
       "      <td>176559</td>\n",
       "      <td>Bose SoundSport Headphones</td>\n",
       "      <td>1</td>\n",
       "      <td>99.99</td>\n",
       "      <td>04-07-2019 22:30</td>\n",
       "      <td>682 Chestnut St, Boston, MA 02215</td>\n",
       "    </tr>\n",
       "    <tr>\n",
       "      <th>2</th>\n",
       "      <td>176560</td>\n",
       "      <td>Google Phone</td>\n",
       "      <td>1</td>\n",
       "      <td>600</td>\n",
       "      <td>04-12-2019 14:38</td>\n",
       "      <td>669 Spruce St, Los Angeles, CA 90001</td>\n",
       "    </tr>\n",
       "    <tr>\n",
       "      <th>3</th>\n",
       "      <td>176560</td>\n",
       "      <td>Wired Headphones</td>\n",
       "      <td>1</td>\n",
       "      <td>11.99</td>\n",
       "      <td>04-12-2019 14:38</td>\n",
       "      <td>669 Spruce St, Los Angeles, CA 90001</td>\n",
       "    </tr>\n",
       "    <tr>\n",
       "      <th>4</th>\n",
       "      <td>176561</td>\n",
       "      <td>Wired Headphones</td>\n",
       "      <td>1</td>\n",
       "      <td>11.99</td>\n",
       "      <td>04/30/19 09:27</td>\n",
       "      <td>333 8th St, Los Angeles, CA 90001</td>\n",
       "    </tr>\n",
       "    <tr>\n",
       "      <th>...</th>\n",
       "      <td>...</td>\n",
       "      <td>...</td>\n",
       "      <td>...</td>\n",
       "      <td>...</td>\n",
       "      <td>...</td>\n",
       "      <td>...</td>\n",
       "    </tr>\n",
       "    <tr>\n",
       "      <th>186844</th>\n",
       "      <td>259353</td>\n",
       "      <td>AAA Batteries (4-pack)</td>\n",
       "      <td>3</td>\n",
       "      <td>2.99</td>\n",
       "      <td>09/17/19 20:56</td>\n",
       "      <td>840 Highland St, Los Angeles, CA 90001</td>\n",
       "    </tr>\n",
       "    <tr>\n",
       "      <th>186845</th>\n",
       "      <td>259354</td>\n",
       "      <td>iPhone</td>\n",
       "      <td>1</td>\n",
       "      <td>700</td>\n",
       "      <td>09/01/19 16:00</td>\n",
       "      <td>216 Dogwood St, San Francisco, CA 94016</td>\n",
       "    </tr>\n",
       "    <tr>\n",
       "      <th>186846</th>\n",
       "      <td>259355</td>\n",
       "      <td>iPhone</td>\n",
       "      <td>1</td>\n",
       "      <td>700</td>\n",
       "      <td>09/23/19 07:39</td>\n",
       "      <td>220 12th St, San Francisco, CA 94016</td>\n",
       "    </tr>\n",
       "    <tr>\n",
       "      <th>186847</th>\n",
       "      <td>259356</td>\n",
       "      <td>34in Ultrawide Monitor</td>\n",
       "      <td>1</td>\n",
       "      <td>379.99</td>\n",
       "      <td>09/19/19 17:30</td>\n",
       "      <td>511 Forest St, San Francisco, CA 94016</td>\n",
       "    </tr>\n",
       "    <tr>\n",
       "      <th>186848</th>\n",
       "      <td>259357</td>\n",
       "      <td>USB-C Charging Cable</td>\n",
       "      <td>1</td>\n",
       "      <td>11.95</td>\n",
       "      <td>09/30/19 00:18</td>\n",
       "      <td>250 Meadow St, San Francisco, CA 94016</td>\n",
       "    </tr>\n",
       "  </tbody>\n",
       "</table>\n",
       "<p>185950 rows × 6 columns</p>\n",
       "</div>"
      ],
      "text/plain": [
       "       Order ID                     Product Quantity Ordered Price Each  \\\n",
       "0        176558        USB-C Charging Cable                2      11.95   \n",
       "1        176559  Bose SoundSport Headphones                1      99.99   \n",
       "2        176560                Google Phone                1        600   \n",
       "3        176560            Wired Headphones                1      11.99   \n",
       "4        176561            Wired Headphones                1      11.99   \n",
       "...         ...                         ...              ...        ...   \n",
       "186844   259353      AAA Batteries (4-pack)                3       2.99   \n",
       "186845   259354                      iPhone                1        700   \n",
       "186846   259355                      iPhone                1        700   \n",
       "186847   259356      34in Ultrawide Monitor                1     379.99   \n",
       "186848   259357        USB-C Charging Cable                1      11.95   \n",
       "\n",
       "              Order Date                         Purchase Address  \n",
       "0         04/19/19 08:46             917 1st St, Dallas, TX 75001  \n",
       "1       04-07-2019 22:30        682 Chestnut St, Boston, MA 02215  \n",
       "2       04-12-2019 14:38     669 Spruce St, Los Angeles, CA 90001  \n",
       "3       04-12-2019 14:38     669 Spruce St, Los Angeles, CA 90001  \n",
       "4         04/30/19 09:27        333 8th St, Los Angeles, CA 90001  \n",
       "...                  ...                                      ...  \n",
       "186844    09/17/19 20:56   840 Highland St, Los Angeles, CA 90001  \n",
       "186845    09/01/19 16:00  216 Dogwood St, San Francisco, CA 94016  \n",
       "186846    09/23/19 07:39     220 12th St, San Francisco, CA 94016  \n",
       "186847    09/19/19 17:30   511 Forest St, San Francisco, CA 94016  \n",
       "186848    09/30/19 00:18   250 Meadow St, San Francisco, CA 94016  \n",
       "\n",
       "[185950 rows x 6 columns]"
      ]
     },
     "execution_count": 20,
     "metadata": {},
     "output_type": "execute_result"
    }
   ],
   "source": [
    "##Drop row containing column name or use skiprows=1 in read.csv\n",
    "Sales = Sales[Sales.Product != 'Product']\n",
    "Sales"
   ]
  },
  {
   "cell_type": "code",
   "execution_count": 21,
   "id": "461ebdd3",
   "metadata": {
    "scrolled": true
   },
   "outputs": [
    {
     "data": {
      "text/plain": [
       "Order ID            0\n",
       "Product             0\n",
       "Quantity Ordered    0\n",
       "Price Each          0\n",
       "Order Date          0\n",
       "Purchase Address    0\n",
       "dtype: int64"
      ]
     },
     "execution_count": 21,
     "metadata": {},
     "output_type": "execute_result"
    }
   ],
   "source": [
    "Sales.isna().sum()"
   ]
  },
  {
   "cell_type": "code",
   "execution_count": 22,
   "id": "cecee9f6",
   "metadata": {},
   "outputs": [
    {
     "data": {
      "text/plain": [
       "array(['USB-C Charging Cable', 'Bose SoundSport Headphones',\n",
       "       'Google Phone', 'Wired Headphones', 'Macbook Pro Laptop',\n",
       "       'Lightning Charging Cable', '27in 4K Gaming Monitor',\n",
       "       'AA Batteries (4-pack)', 'Apple Airpods Headphones',\n",
       "       'AAA Batteries (4-pack)', 'iPhone', 'Flatscreen TV',\n",
       "       '27in FHD Monitor', '20in Monitor', 'LG Dryer', 'ThinkPad Laptop',\n",
       "       'Vareebadd Phone', 'LG Washing Machine', '34in Ultrawide Monitor'],\n",
       "      dtype=object)"
      ]
     },
     "execution_count": 22,
     "metadata": {},
     "output_type": "execute_result"
    }
   ],
   "source": [
    "Sales.Product.unique()"
   ]
  },
  {
   "cell_type": "code",
   "execution_count": 23,
   "id": "68410f88",
   "metadata": {},
   "outputs": [
    {
     "data": {
      "text/plain": [
       "array(['176558', '176559', '176560', ..., '259355', '259356', '259357'],\n",
       "      dtype=object)"
      ]
     },
     "execution_count": 23,
     "metadata": {},
     "output_type": "execute_result"
    }
   ],
   "source": [
    "Sales['Order ID'].unique()"
   ]
  },
  {
   "cell_type": "markdown",
   "id": "ea9892ea",
   "metadata": {},
   "source": [
    "#### Remove space in Column"
   ]
  },
  {
   "cell_type": "code",
   "execution_count": 24,
   "id": "009815ed",
   "metadata": {
    "collapsed": true
   },
   "outputs": [
    {
     "data": {
      "text/html": [
       "<div>\n",
       "<style scoped>\n",
       "    .dataframe tbody tr th:only-of-type {\n",
       "        vertical-align: middle;\n",
       "    }\n",
       "\n",
       "    .dataframe tbody tr th {\n",
       "        vertical-align: top;\n",
       "    }\n",
       "\n",
       "    .dataframe thead th {\n",
       "        text-align: right;\n",
       "    }\n",
       "</style>\n",
       "<table border=\"1\" class=\"dataframe\">\n",
       "  <thead>\n",
       "    <tr style=\"text-align: right;\">\n",
       "      <th></th>\n",
       "      <th>OrderID</th>\n",
       "      <th>Product</th>\n",
       "      <th>QuantityOrdered</th>\n",
       "      <th>PriceEach</th>\n",
       "      <th>OrderDate</th>\n",
       "      <th>PurchaseAddress</th>\n",
       "    </tr>\n",
       "  </thead>\n",
       "  <tbody>\n",
       "    <tr>\n",
       "      <th>0</th>\n",
       "      <td>176558</td>\n",
       "      <td>USB-C Charging Cable</td>\n",
       "      <td>2</td>\n",
       "      <td>11.95</td>\n",
       "      <td>04/19/19 08:46</td>\n",
       "      <td>917 1st St, Dallas, TX 75001</td>\n",
       "    </tr>\n",
       "    <tr>\n",
       "      <th>1</th>\n",
       "      <td>176559</td>\n",
       "      <td>Bose SoundSport Headphones</td>\n",
       "      <td>1</td>\n",
       "      <td>99.99</td>\n",
       "      <td>04-07-2019 22:30</td>\n",
       "      <td>682 Chestnut St, Boston, MA 02215</td>\n",
       "    </tr>\n",
       "    <tr>\n",
       "      <th>2</th>\n",
       "      <td>176560</td>\n",
       "      <td>Google Phone</td>\n",
       "      <td>1</td>\n",
       "      <td>600</td>\n",
       "      <td>04-12-2019 14:38</td>\n",
       "      <td>669 Spruce St, Los Angeles, CA 90001</td>\n",
       "    </tr>\n",
       "    <tr>\n",
       "      <th>3</th>\n",
       "      <td>176560</td>\n",
       "      <td>Wired Headphones</td>\n",
       "      <td>1</td>\n",
       "      <td>11.99</td>\n",
       "      <td>04-12-2019 14:38</td>\n",
       "      <td>669 Spruce St, Los Angeles, CA 90001</td>\n",
       "    </tr>\n",
       "    <tr>\n",
       "      <th>4</th>\n",
       "      <td>176561</td>\n",
       "      <td>Wired Headphones</td>\n",
       "      <td>1</td>\n",
       "      <td>11.99</td>\n",
       "      <td>04/30/19 09:27</td>\n",
       "      <td>333 8th St, Los Angeles, CA 90001</td>\n",
       "    </tr>\n",
       "    <tr>\n",
       "      <th>...</th>\n",
       "      <td>...</td>\n",
       "      <td>...</td>\n",
       "      <td>...</td>\n",
       "      <td>...</td>\n",
       "      <td>...</td>\n",
       "      <td>...</td>\n",
       "    </tr>\n",
       "    <tr>\n",
       "      <th>186844</th>\n",
       "      <td>259353</td>\n",
       "      <td>AAA Batteries (4-pack)</td>\n",
       "      <td>3</td>\n",
       "      <td>2.99</td>\n",
       "      <td>09/17/19 20:56</td>\n",
       "      <td>840 Highland St, Los Angeles, CA 90001</td>\n",
       "    </tr>\n",
       "    <tr>\n",
       "      <th>186845</th>\n",
       "      <td>259354</td>\n",
       "      <td>iPhone</td>\n",
       "      <td>1</td>\n",
       "      <td>700</td>\n",
       "      <td>09/01/19 16:00</td>\n",
       "      <td>216 Dogwood St, San Francisco, CA 94016</td>\n",
       "    </tr>\n",
       "    <tr>\n",
       "      <th>186846</th>\n",
       "      <td>259355</td>\n",
       "      <td>iPhone</td>\n",
       "      <td>1</td>\n",
       "      <td>700</td>\n",
       "      <td>09/23/19 07:39</td>\n",
       "      <td>220 12th St, San Francisco, CA 94016</td>\n",
       "    </tr>\n",
       "    <tr>\n",
       "      <th>186847</th>\n",
       "      <td>259356</td>\n",
       "      <td>34in Ultrawide Monitor</td>\n",
       "      <td>1</td>\n",
       "      <td>379.99</td>\n",
       "      <td>09/19/19 17:30</td>\n",
       "      <td>511 Forest St, San Francisco, CA 94016</td>\n",
       "    </tr>\n",
       "    <tr>\n",
       "      <th>186848</th>\n",
       "      <td>259357</td>\n",
       "      <td>USB-C Charging Cable</td>\n",
       "      <td>1</td>\n",
       "      <td>11.95</td>\n",
       "      <td>09/30/19 00:18</td>\n",
       "      <td>250 Meadow St, San Francisco, CA 94016</td>\n",
       "    </tr>\n",
       "  </tbody>\n",
       "</table>\n",
       "<p>185950 rows × 6 columns</p>\n",
       "</div>"
      ],
      "text/plain": [
       "       OrderID                     Product QuantityOrdered PriceEach  \\\n",
       "0       176558        USB-C Charging Cable               2     11.95   \n",
       "1       176559  Bose SoundSport Headphones               1     99.99   \n",
       "2       176560                Google Phone               1       600   \n",
       "3       176560            Wired Headphones               1     11.99   \n",
       "4       176561            Wired Headphones               1     11.99   \n",
       "...        ...                         ...             ...       ...   \n",
       "186844  259353      AAA Batteries (4-pack)               3      2.99   \n",
       "186845  259354                      iPhone               1       700   \n",
       "186846  259355                      iPhone               1       700   \n",
       "186847  259356      34in Ultrawide Monitor               1    379.99   \n",
       "186848  259357        USB-C Charging Cable               1     11.95   \n",
       "\n",
       "               OrderDate                          PurchaseAddress  \n",
       "0         04/19/19 08:46             917 1st St, Dallas, TX 75001  \n",
       "1       04-07-2019 22:30        682 Chestnut St, Boston, MA 02215  \n",
       "2       04-12-2019 14:38     669 Spruce St, Los Angeles, CA 90001  \n",
       "3       04-12-2019 14:38     669 Spruce St, Los Angeles, CA 90001  \n",
       "4         04/30/19 09:27        333 8th St, Los Angeles, CA 90001  \n",
       "...                  ...                                      ...  \n",
       "186844    09/17/19 20:56   840 Highland St, Los Angeles, CA 90001  \n",
       "186845    09/01/19 16:00  216 Dogwood St, San Francisco, CA 94016  \n",
       "186846    09/23/19 07:39     220 12th St, San Francisco, CA 94016  \n",
       "186847    09/19/19 17:30   511 Forest St, San Francisco, CA 94016  \n",
       "186848    09/30/19 00:18   250 Meadow St, San Francisco, CA 94016  \n",
       "\n",
       "[185950 rows x 6 columns]"
      ]
     },
     "execution_count": 24,
     "metadata": {},
     "output_type": "execute_result"
    }
   ],
   "source": [
    "Sales.columns = Sales.columns.str.replace(' ', '')\n",
    "Sales"
   ]
  },
  {
   "cell_type": "markdown",
   "id": "64602e54",
   "metadata": {},
   "source": [
    "### Convert data type"
   ]
  },
  {
   "cell_type": "code",
   "execution_count": 25,
   "id": "82e71356",
   "metadata": {
    "collapsed": true
   },
   "outputs": [
    {
     "name": "stderr",
     "output_type": "stream",
     "text": [
      "C:\\Users\\abdullah\\AppData\\Local\\Temp/ipykernel_10856/4045636486.py:1: SettingWithCopyWarning: \n",
      "A value is trying to be set on a copy of a slice from a DataFrame.\n",
      "Try using .loc[row_indexer,col_indexer] = value instead\n",
      "\n",
      "See the caveats in the documentation: https://pandas.pydata.org/pandas-docs/stable/user_guide/indexing.html#returning-a-view-versus-a-copy\n",
      "  Sales['QuantityOrdered']=pd.to_numeric(Sales['QuantityOrdered'])\n",
      "C:\\Users\\abdullah\\AppData\\Local\\Temp/ipykernel_10856/4045636486.py:2: SettingWithCopyWarning: \n",
      "A value is trying to be set on a copy of a slice from a DataFrame.\n",
      "Try using .loc[row_indexer,col_indexer] = value instead\n",
      "\n",
      "See the caveats in the documentation: https://pandas.pydata.org/pandas-docs/stable/user_guide/indexing.html#returning-a-view-versus-a-copy\n",
      "  Sales['PriceEach']=pd.to_numeric(Sales['PriceEach'])\n"
     ]
    }
   ],
   "source": [
    "Sales['QuantityOrdered']=pd.to_numeric(Sales['QuantityOrdered'])\n",
    "Sales['PriceEach']=pd.to_numeric(Sales['PriceEach'])\n"
   ]
  },
  {
   "cell_type": "code",
   "execution_count": 26,
   "id": "96a3962e",
   "metadata": {
    "collapsed": true
   },
   "outputs": [
    {
     "name": "stderr",
     "output_type": "stream",
     "text": [
      "C:\\Users\\abdullah\\AppData\\Local\\Temp/ipykernel_10856/332495621.py:1: SettingWithCopyWarning: \n",
      "A value is trying to be set on a copy of a slice from a DataFrame.\n",
      "Try using .loc[row_indexer,col_indexer] = value instead\n",
      "\n",
      "See the caveats in the documentation: https://pandas.pydata.org/pandas-docs/stable/user_guide/indexing.html#returning-a-view-versus-a-copy\n",
      "  Sales[\"OrderDate\"]=pd.to_datetime(Sales[\"OrderDate\"])\n"
     ]
    }
   ],
   "source": [
    "Sales[\"OrderDate\"]=pd.to_datetime(Sales[\"OrderDate\"])"
   ]
  },
  {
   "cell_type": "code",
   "execution_count": 27,
   "id": "e2198c6f",
   "metadata": {},
   "outputs": [
    {
     "name": "stdout",
     "output_type": "stream",
     "text": [
      "<class 'pandas.core.frame.DataFrame'>\n",
      "Int64Index: 185950 entries, 0 to 186848\n",
      "Data columns (total 6 columns):\n",
      " #   Column           Non-Null Count   Dtype         \n",
      "---  ------           --------------   -----         \n",
      " 0   OrderID          185950 non-null  object        \n",
      " 1   Product          185950 non-null  object        \n",
      " 2   QuantityOrdered  185950 non-null  int64         \n",
      " 3   PriceEach        185950 non-null  float64       \n",
      " 4   OrderDate        185950 non-null  datetime64[ns]\n",
      " 5   PurchaseAddress  185950 non-null  object        \n",
      "dtypes: datetime64[ns](1), float64(1), int64(1), object(3)\n",
      "memory usage: 9.9+ MB\n"
     ]
    }
   ],
   "source": [
    "Sales.info()"
   ]
  },
  {
   "cell_type": "markdown",
   "id": "eaa93364",
   "metadata": {},
   "source": [
    "## Creating columns"
   ]
  },
  {
   "cell_type": "code",
   "execution_count": 32,
   "id": "5467ba3f",
   "metadata": {
    "collapsed": true
   },
   "outputs": [
    {
     "name": "stderr",
     "output_type": "stream",
     "text": [
      "C:\\Users\\abdullah\\AppData\\Local\\Temp/ipykernel_10856/3600390218.py:1: SettingWithCopyWarning: \n",
      "A value is trying to be set on a copy of a slice from a DataFrame.\n",
      "Try using .loc[row_indexer,col_indexer] = value instead\n",
      "\n",
      "See the caveats in the documentation: https://pandas.pydata.org/pandas-docs/stable/user_guide/indexing.html#returning-a-view-versus-a-copy\n",
      "  Sales['Totalsales']=Sales['QuantityOrdered']*Sales['PriceEach']\n"
     ]
    },
    {
     "data": {
      "text/html": [
       "<div>\n",
       "<style scoped>\n",
       "    .dataframe tbody tr th:only-of-type {\n",
       "        vertical-align: middle;\n",
       "    }\n",
       "\n",
       "    .dataframe tbody tr th {\n",
       "        vertical-align: top;\n",
       "    }\n",
       "\n",
       "    .dataframe thead th {\n",
       "        text-align: right;\n",
       "    }\n",
       "</style>\n",
       "<table border=\"1\" class=\"dataframe\">\n",
       "  <thead>\n",
       "    <tr style=\"text-align: right;\">\n",
       "      <th></th>\n",
       "      <th>OrderID</th>\n",
       "      <th>Product</th>\n",
       "      <th>QuantityOrdered</th>\n",
       "      <th>PriceEach</th>\n",
       "      <th>OrderDate</th>\n",
       "      <th>PurchaseAddress</th>\n",
       "      <th>month</th>\n",
       "      <th>Hour</th>\n",
       "      <th>Totalsales</th>\n",
       "    </tr>\n",
       "  </thead>\n",
       "  <tbody>\n",
       "    <tr>\n",
       "      <th>0</th>\n",
       "      <td>176558</td>\n",
       "      <td>USB-C Charging Cable</td>\n",
       "      <td>2</td>\n",
       "      <td>11.95</td>\n",
       "      <td>2019-04-19 08:46:00</td>\n",
       "      <td>917 1st St, Dallas, TX 75001</td>\n",
       "      <td>4</td>\n",
       "      <td>8</td>\n",
       "      <td>23.90</td>\n",
       "    </tr>\n",
       "    <tr>\n",
       "      <th>1</th>\n",
       "      <td>176559</td>\n",
       "      <td>Bose SoundSport Headphones</td>\n",
       "      <td>1</td>\n",
       "      <td>99.99</td>\n",
       "      <td>2019-04-07 22:30:00</td>\n",
       "      <td>682 Chestnut St, Boston, MA 02215</td>\n",
       "      <td>4</td>\n",
       "      <td>22</td>\n",
       "      <td>99.99</td>\n",
       "    </tr>\n",
       "    <tr>\n",
       "      <th>2</th>\n",
       "      <td>176560</td>\n",
       "      <td>Google Phone</td>\n",
       "      <td>1</td>\n",
       "      <td>600.00</td>\n",
       "      <td>2019-04-12 14:38:00</td>\n",
       "      <td>669 Spruce St, Los Angeles, CA 90001</td>\n",
       "      <td>4</td>\n",
       "      <td>14</td>\n",
       "      <td>600.00</td>\n",
       "    </tr>\n",
       "    <tr>\n",
       "      <th>3</th>\n",
       "      <td>176560</td>\n",
       "      <td>Wired Headphones</td>\n",
       "      <td>1</td>\n",
       "      <td>11.99</td>\n",
       "      <td>2019-04-12 14:38:00</td>\n",
       "      <td>669 Spruce St, Los Angeles, CA 90001</td>\n",
       "      <td>4</td>\n",
       "      <td>14</td>\n",
       "      <td>11.99</td>\n",
       "    </tr>\n",
       "    <tr>\n",
       "      <th>4</th>\n",
       "      <td>176561</td>\n",
       "      <td>Wired Headphones</td>\n",
       "      <td>1</td>\n",
       "      <td>11.99</td>\n",
       "      <td>2019-04-30 09:27:00</td>\n",
       "      <td>333 8th St, Los Angeles, CA 90001</td>\n",
       "      <td>4</td>\n",
       "      <td>9</td>\n",
       "      <td>11.99</td>\n",
       "    </tr>\n",
       "    <tr>\n",
       "      <th>...</th>\n",
       "      <td>...</td>\n",
       "      <td>...</td>\n",
       "      <td>...</td>\n",
       "      <td>...</td>\n",
       "      <td>...</td>\n",
       "      <td>...</td>\n",
       "      <td>...</td>\n",
       "      <td>...</td>\n",
       "      <td>...</td>\n",
       "    </tr>\n",
       "    <tr>\n",
       "      <th>186844</th>\n",
       "      <td>259353</td>\n",
       "      <td>AAA Batteries (4-pack)</td>\n",
       "      <td>3</td>\n",
       "      <td>2.99</td>\n",
       "      <td>2019-09-17 20:56:00</td>\n",
       "      <td>840 Highland St, Los Angeles, CA 90001</td>\n",
       "      <td>9</td>\n",
       "      <td>20</td>\n",
       "      <td>8.97</td>\n",
       "    </tr>\n",
       "    <tr>\n",
       "      <th>186845</th>\n",
       "      <td>259354</td>\n",
       "      <td>iPhone</td>\n",
       "      <td>1</td>\n",
       "      <td>700.00</td>\n",
       "      <td>2019-09-01 16:00:00</td>\n",
       "      <td>216 Dogwood St, San Francisco, CA 94016</td>\n",
       "      <td>9</td>\n",
       "      <td>16</td>\n",
       "      <td>700.00</td>\n",
       "    </tr>\n",
       "    <tr>\n",
       "      <th>186846</th>\n",
       "      <td>259355</td>\n",
       "      <td>iPhone</td>\n",
       "      <td>1</td>\n",
       "      <td>700.00</td>\n",
       "      <td>2019-09-23 07:39:00</td>\n",
       "      <td>220 12th St, San Francisco, CA 94016</td>\n",
       "      <td>9</td>\n",
       "      <td>7</td>\n",
       "      <td>700.00</td>\n",
       "    </tr>\n",
       "    <tr>\n",
       "      <th>186847</th>\n",
       "      <td>259356</td>\n",
       "      <td>34in Ultrawide Monitor</td>\n",
       "      <td>1</td>\n",
       "      <td>379.99</td>\n",
       "      <td>2019-09-19 17:30:00</td>\n",
       "      <td>511 Forest St, San Francisco, CA 94016</td>\n",
       "      <td>9</td>\n",
       "      <td>17</td>\n",
       "      <td>379.99</td>\n",
       "    </tr>\n",
       "    <tr>\n",
       "      <th>186848</th>\n",
       "      <td>259357</td>\n",
       "      <td>USB-C Charging Cable</td>\n",
       "      <td>1</td>\n",
       "      <td>11.95</td>\n",
       "      <td>2019-09-30 00:18:00</td>\n",
       "      <td>250 Meadow St, San Francisco, CA 94016</td>\n",
       "      <td>9</td>\n",
       "      <td>0</td>\n",
       "      <td>11.95</td>\n",
       "    </tr>\n",
       "  </tbody>\n",
       "</table>\n",
       "<p>185950 rows × 9 columns</p>\n",
       "</div>"
      ],
      "text/plain": [
       "       OrderID                     Product  QuantityOrdered  PriceEach  \\\n",
       "0       176558        USB-C Charging Cable                2      11.95   \n",
       "1       176559  Bose SoundSport Headphones                1      99.99   \n",
       "2       176560                Google Phone                1     600.00   \n",
       "3       176560            Wired Headphones                1      11.99   \n",
       "4       176561            Wired Headphones                1      11.99   \n",
       "...        ...                         ...              ...        ...   \n",
       "186844  259353      AAA Batteries (4-pack)                3       2.99   \n",
       "186845  259354                      iPhone                1     700.00   \n",
       "186846  259355                      iPhone                1     700.00   \n",
       "186847  259356      34in Ultrawide Monitor                1     379.99   \n",
       "186848  259357        USB-C Charging Cable                1      11.95   \n",
       "\n",
       "                 OrderDate                          PurchaseAddress  month  \\\n",
       "0      2019-04-19 08:46:00             917 1st St, Dallas, TX 75001      4   \n",
       "1      2019-04-07 22:30:00        682 Chestnut St, Boston, MA 02215      4   \n",
       "2      2019-04-12 14:38:00     669 Spruce St, Los Angeles, CA 90001      4   \n",
       "3      2019-04-12 14:38:00     669 Spruce St, Los Angeles, CA 90001      4   \n",
       "4      2019-04-30 09:27:00        333 8th St, Los Angeles, CA 90001      4   \n",
       "...                    ...                                      ...    ...   \n",
       "186844 2019-09-17 20:56:00   840 Highland St, Los Angeles, CA 90001      9   \n",
       "186845 2019-09-01 16:00:00  216 Dogwood St, San Francisco, CA 94016      9   \n",
       "186846 2019-09-23 07:39:00     220 12th St, San Francisco, CA 94016      9   \n",
       "186847 2019-09-19 17:30:00   511 Forest St, San Francisco, CA 94016      9   \n",
       "186848 2019-09-30 00:18:00   250 Meadow St, San Francisco, CA 94016      9   \n",
       "\n",
       "        Hour  Totalsales  \n",
       "0          8       23.90  \n",
       "1         22       99.99  \n",
       "2         14      600.00  \n",
       "3         14       11.99  \n",
       "4          9       11.99  \n",
       "...      ...         ...  \n",
       "186844    20        8.97  \n",
       "186845    16      700.00  \n",
       "186846     7      700.00  \n",
       "186847    17      379.99  \n",
       "186848     0       11.95  \n",
       "\n",
       "[185950 rows x 9 columns]"
      ]
     },
     "execution_count": 32,
     "metadata": {},
     "output_type": "execute_result"
    }
   ],
   "source": [
    "Sales['Totalsales']=Sales['QuantityOrdered']*Sales['PriceEach']\n"
   ]
  },
  {
   "cell_type": "code",
   "execution_count": 29,
   "id": "98c76103",
   "metadata": {
    "collapsed": true
   },
   "outputs": [
    {
     "name": "stderr",
     "output_type": "stream",
     "text": [
      "C:\\Users\\abdullah\\AppData\\Local\\Temp/ipykernel_10856/710318054.py:1: SettingWithCopyWarning: \n",
      "A value is trying to be set on a copy of a slice from a DataFrame.\n",
      "Try using .loc[row_indexer,col_indexer] = value instead\n",
      "\n",
      "See the caveats in the documentation: https://pandas.pydata.org/pandas-docs/stable/user_guide/indexing.html#returning-a-view-versus-a-copy\n",
      "  Sales['month'] = Sales['OrderDate'].dt.month\n"
     ]
    }
   ],
   "source": [
    "Sales['month'] = Sales['OrderDate'].dt.month"
   ]
  },
  {
   "cell_type": "code",
   "execution_count": 100,
   "id": "c7dc26bb",
   "metadata": {
    "collapsed": true
   },
   "outputs": [
    {
     "name": "stderr",
     "output_type": "stream",
     "text": [
      "C:\\Users\\abdullah\\AppData\\Local\\Temp/ipykernel_10856/100431547.py:1: SettingWithCopyWarning: \n",
      "A value is trying to be set on a copy of a slice from a DataFrame.\n",
      "Try using .loc[row_indexer,col_indexer] = value instead\n",
      "\n",
      "See the caveats in the documentation: https://pandas.pydata.org/pandas-docs/stable/user_guide/indexing.html#returning-a-view-versus-a-copy\n",
      "  Sales['Hour'] = Sales['OrderDate'].dt.hour\n"
     ]
    }
   ],
   "source": [
    "Sales['Hour'] = Sales['OrderDate'].dt.hour"
   ]
  },
  {
   "cell_type": "code",
   "execution_count": 41,
   "id": "a0e3458b",
   "metadata": {
    "collapsed": true
   },
   "outputs": [
    {
     "name": "stderr",
     "output_type": "stream",
     "text": [
      "c:\\users\\abdullah\\appdata\\local\\programs\\python\\python39\\lib\\site-packages\\pandas\\core\\frame.py:4906: SettingWithCopyWarning: \n",
      "A value is trying to be set on a copy of a slice from a DataFrame\n",
      "\n",
      "See the caveats in the documentation: https://pandas.pydata.org/pandas-docs/stable/user_guide/indexing.html#returning-a-view-versus-a-copy\n",
      "  return super().drop(\n"
     ]
    }
   ],
   "source": [
    "##Sales['City']=Sales['PurchaseAddress'].apply(lambda x: x.split(',')[1])\n",
    "##Sales.head()\n",
    "#drop this column\n",
    "Sales.drop(columns='City',inplace=True)\n"
   ]
  },
  {
   "cell_type": "code",
   "execution_count": 101,
   "id": "5aef3368",
   "metadata": {},
   "outputs": [
    {
     "name": "stderr",
     "output_type": "stream",
     "text": [
      "C:\\Users\\abdullah\\AppData\\Local\\Temp/ipykernel_10856/2696315169.py:5: SettingWithCopyWarning: \n",
      "A value is trying to be set on a copy of a slice from a DataFrame.\n",
      "Try using .loc[row_indexer,col_indexer] = value instead\n",
      "\n",
      "See the caveats in the documentation: https://pandas.pydata.org/pandas-docs/stable/user_guide/indexing.html#returning-a-view-versus-a-copy\n",
      "  Sales['City_State']=Sales['PurchaseAddress'].apply(lambda x: get_city(x)+ ' ' + get_state(x))\n"
     ]
    },
    {
     "data": {
      "text/html": [
       "<div>\n",
       "<style scoped>\n",
       "    .dataframe tbody tr th:only-of-type {\n",
       "        vertical-align: middle;\n",
       "    }\n",
       "\n",
       "    .dataframe tbody tr th {\n",
       "        vertical-align: top;\n",
       "    }\n",
       "\n",
       "    .dataframe thead th {\n",
       "        text-align: right;\n",
       "    }\n",
       "</style>\n",
       "<table border=\"1\" class=\"dataframe\">\n",
       "  <thead>\n",
       "    <tr style=\"text-align: right;\">\n",
       "      <th></th>\n",
       "      <th>OrderID</th>\n",
       "      <th>Product</th>\n",
       "      <th>QuantityOrdered</th>\n",
       "      <th>PriceEach</th>\n",
       "      <th>OrderDate</th>\n",
       "      <th>PurchaseAddress</th>\n",
       "      <th>month</th>\n",
       "      <th>Hour</th>\n",
       "      <th>Totalsales</th>\n",
       "      <th>City_State</th>\n",
       "    </tr>\n",
       "  </thead>\n",
       "  <tbody>\n",
       "    <tr>\n",
       "      <th>0</th>\n",
       "      <td>176558</td>\n",
       "      <td>USB-C Charging Cable</td>\n",
       "      <td>2</td>\n",
       "      <td>11.95</td>\n",
       "      <td>2019-04-19 08:46:00</td>\n",
       "      <td>917 1st St, Dallas, TX 75001</td>\n",
       "      <td>4</td>\n",
       "      <td>8</td>\n",
       "      <td>23.90</td>\n",
       "      <td>Dallas TX</td>\n",
       "    </tr>\n",
       "    <tr>\n",
       "      <th>1</th>\n",
       "      <td>176559</td>\n",
       "      <td>Bose SoundSport Headphones</td>\n",
       "      <td>1</td>\n",
       "      <td>99.99</td>\n",
       "      <td>2019-04-07 22:30:00</td>\n",
       "      <td>682 Chestnut St, Boston, MA 02215</td>\n",
       "      <td>4</td>\n",
       "      <td>22</td>\n",
       "      <td>99.99</td>\n",
       "      <td>Boston MA</td>\n",
       "    </tr>\n",
       "    <tr>\n",
       "      <th>2</th>\n",
       "      <td>176560</td>\n",
       "      <td>Google Phone</td>\n",
       "      <td>1</td>\n",
       "      <td>600.00</td>\n",
       "      <td>2019-04-12 14:38:00</td>\n",
       "      <td>669 Spruce St, Los Angeles, CA 90001</td>\n",
       "      <td>4</td>\n",
       "      <td>14</td>\n",
       "      <td>600.00</td>\n",
       "      <td>Los Angeles CA</td>\n",
       "    </tr>\n",
       "    <tr>\n",
       "      <th>3</th>\n",
       "      <td>176560</td>\n",
       "      <td>Wired Headphones</td>\n",
       "      <td>1</td>\n",
       "      <td>11.99</td>\n",
       "      <td>2019-04-12 14:38:00</td>\n",
       "      <td>669 Spruce St, Los Angeles, CA 90001</td>\n",
       "      <td>4</td>\n",
       "      <td>14</td>\n",
       "      <td>11.99</td>\n",
       "      <td>Los Angeles CA</td>\n",
       "    </tr>\n",
       "    <tr>\n",
       "      <th>4</th>\n",
       "      <td>176561</td>\n",
       "      <td>Wired Headphones</td>\n",
       "      <td>1</td>\n",
       "      <td>11.99</td>\n",
       "      <td>2019-04-30 09:27:00</td>\n",
       "      <td>333 8th St, Los Angeles, CA 90001</td>\n",
       "      <td>4</td>\n",
       "      <td>9</td>\n",
       "      <td>11.99</td>\n",
       "      <td>Los Angeles CA</td>\n",
       "    </tr>\n",
       "  </tbody>\n",
       "</table>\n",
       "</div>"
      ],
      "text/plain": [
       "  OrderID                     Product  QuantityOrdered  PriceEach  \\\n",
       "0  176558        USB-C Charging Cable                2      11.95   \n",
       "1  176559  Bose SoundSport Headphones                1      99.99   \n",
       "2  176560                Google Phone                1     600.00   \n",
       "3  176560            Wired Headphones                1      11.99   \n",
       "4  176561            Wired Headphones                1      11.99   \n",
       "\n",
       "            OrderDate                       PurchaseAddress  month  Hour  \\\n",
       "0 2019-04-19 08:46:00          917 1st St, Dallas, TX 75001      4     8   \n",
       "1 2019-04-07 22:30:00     682 Chestnut St, Boston, MA 02215      4    22   \n",
       "2 2019-04-12 14:38:00  669 Spruce St, Los Angeles, CA 90001      4    14   \n",
       "3 2019-04-12 14:38:00  669 Spruce St, Los Angeles, CA 90001      4    14   \n",
       "4 2019-04-30 09:27:00     333 8th St, Los Angeles, CA 90001      4     9   \n",
       "\n",
       "   Totalsales       City_State  \n",
       "0       23.90        Dallas TX  \n",
       "1       99.99        Boston MA  \n",
       "2      600.00   Los Angeles CA  \n",
       "3       11.99   Los Angeles CA  \n",
       "4       11.99   Los Angeles CA  "
      ]
     },
     "execution_count": 101,
     "metadata": {},
     "output_type": "execute_result"
    }
   ],
   "source": [
    "def get_city(address):\n",
    "    return address.split(',')[1]\n",
    "def get_state(address):\n",
    "    return address.split(',')[2].split(' ')[1]\n",
    "Sales['City_State']=Sales['PurchaseAddress'].apply(lambda x: get_city(x)+ ' ' + get_state(x))\n",
    "Sales.head()"
   ]
  },
  {
   "cell_type": "markdown",
   "id": "9f17fe71",
   "metadata": {},
   "source": [
    "# Explotary Data Analysis"
   ]
  },
  {
   "cell_type": "markdown",
   "id": "ddda5c7f",
   "metadata": {},
   "source": [
    "### Best months for sales"
   ]
  },
  {
   "cell_type": "code",
   "execution_count": 52,
   "id": "21c0f85d",
   "metadata": {},
   "outputs": [],
   "source": [
    "results=Sales.groupby(['month']).sum()"
   ]
  },
  {
   "cell_type": "code",
   "execution_count": 55,
   "id": "44c1dfa1",
   "metadata": {},
   "outputs": [
    {
     "data": {
      "image/png": "[encoded data removed]",
      "text/plain": [
       "<Figure size 432x288 with 1 Axes>"
      ]
     },
     "metadata": {
      "needs_background": "light"
     },
     "output_type": "display_data"
    }
   ],
   "source": [
    "\n",
    "months=range(1,13)\n",
    "plt.bar(months,results['Totalsales'])\n",
    "plt.xticks(months)\n",
    "plt.ylabel('Sales($)')\n",
    "plt.xlabel('Month number')\n",
    "plt.show()"
   ]
  },
  {
   "cell_type": "markdown",
   "id": "f5fd27dc",
   "metadata": {},
   "source": [
    "### Best City for sales"
   ]
  },
  {
   "cell_type": "code",
   "execution_count": 61,
   "id": "65b1a48e",
   "metadata": {},
   "outputs": [],
   "source": [
    "results=Sales.groupby(['City_State']).sum()\n"
   ]
  },
  {
   "cell_type": "code",
   "execution_count": 62,
   "id": "d8547fdb",
   "metadata": {
    "scrolled": true
   },
   "outputs": [
    {
     "data": {
      "image/png": "[encoded data removed]",
      "text/plain": [
       "<Figure size 432x288 with 1 Axes>"
      ]
     },
     "metadata": {
      "needs_background": "light"
     },
     "output_type": "display_data"
    }
   ],
   "source": [
    "Cities= [City_State for City_State, df in Sales.groupby('City_State')]#Cities=Sales['City_State'].unique(),it will not show correct city\n",
    "plt.bar(Cities,results['Totalsales'])\n",
    "plt.xticks(Cities,rotation='vertical',size=8)\n",
    "plt.ylabel('Sales($)')\n",
    "plt.show()"
   ]
  },
  {
   "cell_type": "markdown",
   "id": "efe423e9",
   "metadata": {},
   "source": [
    "### Best time to advertisement"
   ]
  },
  {
   "cell_type": "code",
   "execution_count": 109,
   "id": "99f41b64",
   "metadata": {},
   "outputs": [
    {
     "data": {
      "image/png": "[encoded data removed]",
      "text/plain": [
       "<Figure size 432x288 with 1 Axes>"
      ]
     },
     "metadata": {
      "needs_background": "light"
     },
     "output_type": "display_data"
    }
   ],
   "source": [
    "\n",
    "plt.plot(Sales.groupby(['Hour']).count())\n",
    "\n",
    "plt.xlabel('Hour')    \n",
    "plt.ylabel('Number of orders')\n",
    "plt.grid()\n",
    "plt.show()        "
   ]
  },
  {
   "cell_type": "markdown",
   "id": "e0beb65f",
   "metadata": {},
   "source": [
    "#### The best to advertise is around 10am &6pm"
   ]
  },
  {
   "cell_type": "markdown",
   "id": "667dc5f1",
   "metadata": {},
   "source": [
    "### Most sold product"
   ]
  },
  {
   "cell_type": "code",
   "execution_count": 144,
   "id": "4ba47845",
   "metadata": {},
   "outputs": [
    {
     "data": {
      "text/plain": [
       "<AxesSubplot:xlabel='Product', ylabel='no. of products'>"
      ]
     },
     "execution_count": 144,
     "metadata": {},
     "output_type": "execute_result"
    },
    {
     "data": {
      "image/png": "[encoded data removed]",
      "text/plain": [
       "<Figure size 432x288 with 1 Axes>"
      ]
     },
     "metadata": {
      "needs_background": "light"
     },
     "output_type": "display_data"
    }
   ],
   "source": [
    "temp=Sales.groupby(['Product']).count()\n",
    "temp.plot(kind='bar',ylabel='no. of products',legend=False)\n",
    "\n"
   ]
  },
  {
   "cell_type": "markdown",
   "id": "c6cd0c43",
   "metadata": {},
   "source": [
    "#### Most sold product vs Mean Price\n"
   ]
  },
  {
   "cell_type": "code",
   "execution_count": 160,
   "id": "05b454c5",
   "metadata": {},
   "outputs": [
    {
     "data": {
      "text/plain": [
       "Product\n",
       "20in Monitor                   109.99\n",
       "27in 4K Gaming Monitor         389.99\n",
       "27in FHD Monitor               149.99\n",
       "34in Ultrawide Monitor         379.99\n",
       "AA Batteries (4-pack)            3.84\n",
       "AAA Batteries (4-pack)           2.99\n",
       "Apple Airpods Headphones       150.00\n",
       "Bose SoundSport Headphones      99.99\n",
       "Flatscreen TV                  300.00\n",
       "Google Phone                   600.00\n",
       "LG Dryer                       600.00\n",
       "LG Washing Machine             600.00\n",
       "Lightning Charging Cable        14.95\n",
       "Macbook Pro Laptop            1700.00\n",
       "ThinkPad Laptop                999.99\n",
       "USB-C Charging Cable            11.95\n",
       "Vareebadd Phone                400.00\n",
       "Wired Headphones                11.99\n",
       "iPhone                         700.00\n",
       "Name: PriceEach, dtype: float64"
      ]
     },
     "execution_count": 160,
     "metadata": {},
     "output_type": "execute_result"
    }
   ],
   "source": [
    "price=Sales.groupby('Product').mean()['PriceEach']\n",
    "price"
   ]
  }
 ],
 "metadata": {
  "kernelspec": {
   "display_name": "Python 3 (ipykernel)",
   "language": "python",
   "name": "python3"
  },
  "language_info": {
   "codemirror_mode": {
    "name": "ipython",
    "version": 3
   },
   "file_extension": ".py",
   "mimetype": "text/x-python",
   "name": "python",
   "nbconvert_exporter": "python",
   "pygments_lexer": "ipython3",
   "version": "3.9.3"
  }
 },
 "nbformat": 4,
 "nbformat_minor": 5
}
